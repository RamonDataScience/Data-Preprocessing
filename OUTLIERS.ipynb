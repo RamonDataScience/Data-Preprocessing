{
 "cells": [
  {
   "cell_type": "markdown",
   "id": "2e2558cb",
   "metadata": {},
   "source": [
    "# DETECCIÓN DE OUTLIERS"
   ]
  },
  {
   "cell_type": "code",
   "execution_count": 1,
   "id": "51e9079a",
   "metadata": {},
   "outputs": [],
   "source": [
    "import numpy as np # calculos avanzados\n",
    "import pandas as pd # funciones para el analisis de datos\n",
    "import matplotlib.pyplot as plt # gráficos\n",
    "\n",
    "%matplotlib inline"
   ]
  },
  {
   "cell_type": "code",
   "execution_count": 2,
   "id": "fee541ea",
   "metadata": {},
   "outputs": [
    {
     "data": {
      "text/html": [
       "<div>\n",
       "<style scoped>\n",
       "    .dataframe tbody tr th:only-of-type {\n",
       "        vertical-align: middle;\n",
       "    }\n",
       "\n",
       "    .dataframe tbody tr th {\n",
       "        vertical-align: top;\n",
       "    }\n",
       "\n",
       "    .dataframe thead th {\n",
       "        text-align: right;\n",
       "    }\n",
       "</style>\n",
       "<table border=\"1\" class=\"dataframe\">\n",
       "  <thead>\n",
       "    <tr style=\"text-align: right;\">\n",
       "      <th></th>\n",
       "      <th>Rio</th>\n",
       "      <th>Millas</th>\n",
       "    </tr>\n",
       "  </thead>\n",
       "  <tbody>\n",
       "    <tr>\n",
       "      <th>0</th>\n",
       "      <td>1</td>\n",
       "      <td>735</td>\n",
       "    </tr>\n",
       "    <tr>\n",
       "      <th>1</th>\n",
       "      <td>2</td>\n",
       "      <td>320</td>\n",
       "    </tr>\n",
       "    <tr>\n",
       "      <th>2</th>\n",
       "      <td>3</td>\n",
       "      <td>325</td>\n",
       "    </tr>\n",
       "    <tr>\n",
       "      <th>3</th>\n",
       "      <td>4</td>\n",
       "      <td>392</td>\n",
       "    </tr>\n",
       "    <tr>\n",
       "      <th>4</th>\n",
       "      <td>5</td>\n",
       "      <td>524</td>\n",
       "    </tr>\n",
       "    <tr>\n",
       "      <th>...</th>\n",
       "      <td>...</td>\n",
       "      <td>...</td>\n",
       "    </tr>\n",
       "    <tr>\n",
       "      <th>136</th>\n",
       "      <td>137</td>\n",
       "      <td>720</td>\n",
       "    </tr>\n",
       "    <tr>\n",
       "      <th>137</th>\n",
       "      <td>138</td>\n",
       "      <td>270</td>\n",
       "    </tr>\n",
       "    <tr>\n",
       "      <th>138</th>\n",
       "      <td>139</td>\n",
       "      <td>430</td>\n",
       "    </tr>\n",
       "    <tr>\n",
       "      <th>139</th>\n",
       "      <td>140</td>\n",
       "      <td>671</td>\n",
       "    </tr>\n",
       "    <tr>\n",
       "      <th>140</th>\n",
       "      <td>141</td>\n",
       "      <td>1770</td>\n",
       "    </tr>\n",
       "  </tbody>\n",
       "</table>\n",
       "<p>141 rows × 2 columns</p>\n",
       "</div>"
      ],
      "text/plain": [
       "     Rio  Millas\n",
       "0      1     735\n",
       "1      2     320\n",
       "2      3     325\n",
       "3      4     392\n",
       "4      5     524\n",
       "..   ...     ...\n",
       "136  137     720\n",
       "137  138     270\n",
       "138  139     430\n",
       "139  140     671\n",
       "140  141    1770\n",
       "\n",
       "[141 rows x 2 columns]"
      ]
     },
     "execution_count": 2,
     "metadata": {},
     "output_type": "execute_result"
    }
   ],
   "source": [
    "rios = pd.read_csv('Rios.csv')\n",
    "rios"
   ]
  },
  {
   "cell_type": "code",
   "execution_count": 8,
   "id": "a4c0ed45",
   "metadata": {},
   "outputs": [
    {
     "name": "stdout",
     "output_type": "stream",
     "text": [
      "<class 'pandas.core.frame.DataFrame'>\n",
      "RangeIndex: 141 entries, 0 to 140\n",
      "Data columns (total 2 columns):\n",
      " #   Column  Non-Null Count  Dtype\n",
      "---  ------  --------------  -----\n",
      " 0   Rio     141 non-null    int64\n",
      " 1   Millas  141 non-null    int64\n",
      "dtypes: int64(2)\n",
      "memory usage: 2.3 KB\n"
     ]
    }
   ],
   "source": [
    "rios.info()"
   ]
  },
  {
   "cell_type": "code",
   "execution_count": 9,
   "id": "469bf11e",
   "metadata": {},
   "outputs": [
    {
     "data": {
      "text/html": [
       "<div>\n",
       "<style scoped>\n",
       "    .dataframe tbody tr th:only-of-type {\n",
       "        vertical-align: middle;\n",
       "    }\n",
       "\n",
       "    .dataframe tbody tr th {\n",
       "        vertical-align: top;\n",
       "    }\n",
       "\n",
       "    .dataframe thead th {\n",
       "        text-align: right;\n",
       "    }\n",
       "</style>\n",
       "<table border=\"1\" class=\"dataframe\">\n",
       "  <thead>\n",
       "    <tr style=\"text-align: right;\">\n",
       "      <th></th>\n",
       "      <th>Rio</th>\n",
       "      <th>Millas</th>\n",
       "    </tr>\n",
       "  </thead>\n",
       "  <tbody>\n",
       "    <tr>\n",
       "      <th>count</th>\n",
       "      <td>141.000000</td>\n",
       "      <td>141.000000</td>\n",
       "    </tr>\n",
       "    <tr>\n",
       "      <th>mean</th>\n",
       "      <td>71.000000</td>\n",
       "      <td>591.184397</td>\n",
       "    </tr>\n",
       "    <tr>\n",
       "      <th>std</th>\n",
       "      <td>40.847277</td>\n",
       "      <td>493.870842</td>\n",
       "    </tr>\n",
       "    <tr>\n",
       "      <th>min</th>\n",
       "      <td>1.000000</td>\n",
       "      <td>135.000000</td>\n",
       "    </tr>\n",
       "    <tr>\n",
       "      <th>25%</th>\n",
       "      <td>36.000000</td>\n",
       "      <td>310.000000</td>\n",
       "    </tr>\n",
       "    <tr>\n",
       "      <th>50%</th>\n",
       "      <td>71.000000</td>\n",
       "      <td>425.000000</td>\n",
       "    </tr>\n",
       "    <tr>\n",
       "      <th>75%</th>\n",
       "      <td>106.000000</td>\n",
       "      <td>680.000000</td>\n",
       "    </tr>\n",
       "    <tr>\n",
       "      <th>max</th>\n",
       "      <td>141.000000</td>\n",
       "      <td>3710.000000</td>\n",
       "    </tr>\n",
       "  </tbody>\n",
       "</table>\n",
       "</div>"
      ],
      "text/plain": [
       "              Rio       Millas\n",
       "count  141.000000   141.000000\n",
       "mean    71.000000   591.184397\n",
       "std     40.847277   493.870842\n",
       "min      1.000000   135.000000\n",
       "25%     36.000000   310.000000\n",
       "50%     71.000000   425.000000\n",
       "75%    106.000000   680.000000\n",
       "max    141.000000  3710.000000"
      ]
     },
     "execution_count": 9,
     "metadata": {},
     "output_type": "execute_result"
    }
   ],
   "source": [
    "rios.describe()"
   ]
  },
  {
   "cell_type": "code",
   "execution_count": 3,
   "id": "f55a222f",
   "metadata": {},
   "outputs": [],
   "source": [
    "# Obtenemos el histograma para ver cómo están distribuidos los valores"
   ]
  },
  {
   "cell_type": "code",
   "execution_count": 12,
   "id": "099ba7e2",
   "metadata": {},
   "outputs": [
    {
     "data": {
      "image/png": "[encoded data removed]",
      "text/plain": [
       "<Figure size 640x480 with 1 Axes>"
      ]
     },
     "metadata": {},
     "output_type": "display_data"
    }
   ],
   "source": [
    "plt.title('nº Rios(y) VS Millas(x)')\n",
    "plt.hist(rios[\"Millas\"], edgecolor = 'black', linewidth = 1)\n",
    "plt.show()"
   ]
  },
  {
   "cell_type": "code",
   "execution_count": 13,
   "id": "b7e212b0",
   "metadata": {},
   "outputs": [],
   "source": [
    "# hacemos un gráfico de Caja y Bigotes para ver los outliers"
   ]
  },
  {
   "cell_type": "code",
   "execution_count": 14,
   "id": "a2c68fc1",
   "metadata": {},
   "outputs": [
    {
     "data": {
      "image/png": "[encoded data removed]",
      "text/plain": [
       "<Figure size 640x480 with 1 Axes>"
      ]
     },
     "metadata": {},
     "output_type": "display_data"
    }
   ],
   "source": [
    "plt.boxplot(rios[\"Millas\"], vert = False)\n",
    "plt.show()"
   ]
  },
  {
   "cell_type": "code",
   "execution_count": 15,
   "id": "446a4985",
   "metadata": {},
   "outputs": [],
   "source": [
    "# calculamos los estadísticos para el BoxPlot del objeto \"rios\""
   ]
  },
  {
   "cell_type": "code",
   "execution_count": 16,
   "id": "0f6d50ce",
   "metadata": {},
   "outputs": [
    {
     "name": "stdout",
     "output_type": "stream",
     "text": [
      "Primer Cuartil 310.0\n",
      "Tercer Cuartil 680.0\n",
      "Rango Intercuartil 370.0\n",
      "Mediana 425.0\n",
      "Valor Minimo 135\n",
      "Valor Máximo 3710\n"
     ]
    }
   ],
   "source": [
    "Q1 = rios['Millas'].quantile(0.25) # Valor por debajo del cual se encuentra el 25% de los datos\n",
    "print(\"Primer Cuartil\", Q1) # Extremo izquierdo de la caja\n",
    "\n",
    "Q3 = rios['Millas'].quantile(0.75) # Valor por debajo del cual se encuentra el 75% de los datos\n",
    "print(\"Tercer Cuartil\", Q3) # Extremo derecho de la caja\n",
    "\n",
    "IQR = Q3 - Q1 # Este valor nos será util para ver qué valores son outliers y cuales NO\n",
    "print(\"Rango Intercuartil\", IQR) \n",
    "\n",
    "Mediana = rios['Millas'].median()\n",
    "print(\"Mediana\", Mediana) # Linea roja que se ubica dentro de la caja\n",
    " \n",
    "valor_minimo = rios['Millas'].min()\n",
    "print(\"Valor Minimo\", valor_minimo)\n",
    "\n",
    "valor_maximo = rios['Millas'].max()\n",
    "print(\"Valor Máximo\", valor_maximo)\n",
    "\n"
   ]
  },
  {
   "cell_type": "code",
   "execution_count": 17,
   "id": "8ec0bcb7",
   "metadata": {},
   "outputs": [],
   "source": [
    "# Calculamos los valores de los bigotes inferior y superior"
   ]
  },
  {
   "cell_type": "code",
   "execution_count": 18,
   "id": "ee6c38ab",
   "metadata": {},
   "outputs": [
    {
     "name": "stdout",
     "output_type": "stream",
     "text": [
      "BI_Calculado \n",
      " -245.0\n",
      "BS_calculado \n",
      " 1235.0\n"
     ]
    }
   ],
   "source": [
    "BI_Calculado = (Q1 - 1.5 * IQR)\n",
    "print(\"BI_Calculado \\n\", BI_Calculado)\n",
    "\n",
    "BS_Calculado = (Q3 + 1.5 * IQR)\n",
    "print(\"BS_calculado \\n\", BS_Calculado)"
   ]
  },
  {
   "cell_type": "code",
   "execution_count": 19,
   "id": "e849ee80",
   "metadata": {},
   "outputs": [],
   "source": [
    "# UBICAMOS LAS FILAS EN LAS QUE SE ENCUENTRAN LOS OUTLIERS"
   ]
  },
  {
   "cell_type": "code",
   "execution_count": 20,
   "id": "9f371f74",
   "metadata": {},
   "outputs": [
    {
     "name": "stdout",
     "output_type": "stream",
     "text": [
      "n\\ Ubicación de Outliers \n",
      " 0      False\n",
      "1      False\n",
      "2      False\n",
      "3      False\n",
      "4      False\n",
      "       ...  \n",
      "136    False\n",
      "137    False\n",
      "138    False\n",
      "139    False\n",
      "140     True\n",
      "Name: Millas, Length: 141, dtype: bool\n"
     ]
    }
   ],
   "source": [
    "ubicacion_outliers = (rios['Millas'] < BI_Calculado) | (rios['Millas'] > BS_Calculado)\n",
    "print(\"n\\ Ubicación de Outliers \\n\", ubicacion_outliers)"
   ]
  },
  {
   "cell_type": "code",
   "execution_count": 21,
   "id": "10c09494",
   "metadata": {},
   "outputs": [
    {
     "name": "stdout",
     "output_type": "stream",
     "text": [
      "\n",
      " Lista de Outliers \n",
      "      Rio  Millas\n",
      "6      7    1459\n",
      "22    23    1450\n",
      "24    25    1243\n",
      "65    66    2348\n",
      "67    68    3710\n",
      "68    69    2315\n",
      "69    70    2533\n",
      "82    83    1306\n",
      "97    98    1270\n",
      "100  101    1885\n",
      "140  141    1770\n"
     ]
    }
   ],
   "source": [
    "outliers = rios[ubicacion_outliers]\n",
    "print(\"\\n Lista de Outliers \\n\", outliers)"
   ]
  },
  {
   "cell_type": "code",
   "execution_count": 22,
   "id": "cc5767e2",
   "metadata": {},
   "outputs": [],
   "source": [
    "# Ordenamos los outliers"
   ]
  },
  {
   "cell_type": "code",
   "execution_count": 23,
   "id": "59681516",
   "metadata": {},
   "outputs": [
    {
     "data": {
      "text/html": [
       "<div>\n",
       "<style scoped>\n",
       "    .dataframe tbody tr th:only-of-type {\n",
       "        vertical-align: middle;\n",
       "    }\n",
       "\n",
       "    .dataframe tbody tr th {\n",
       "        vertical-align: top;\n",
       "    }\n",
       "\n",
       "    .dataframe thead th {\n",
       "        text-align: right;\n",
       "    }\n",
       "</style>\n",
       "<table border=\"1\" class=\"dataframe\">\n",
       "  <thead>\n",
       "    <tr style=\"text-align: right;\">\n",
       "      <th></th>\n",
       "      <th>Rio</th>\n",
       "      <th>Millas</th>\n",
       "    </tr>\n",
       "  </thead>\n",
       "  <tbody>\n",
       "    <tr>\n",
       "      <th>24</th>\n",
       "      <td>25</td>\n",
       "      <td>1243</td>\n",
       "    </tr>\n",
       "    <tr>\n",
       "      <th>97</th>\n",
       "      <td>98</td>\n",
       "      <td>1270</td>\n",
       "    </tr>\n",
       "    <tr>\n",
       "      <th>82</th>\n",
       "      <td>83</td>\n",
       "      <td>1306</td>\n",
       "    </tr>\n",
       "    <tr>\n",
       "      <th>22</th>\n",
       "      <td>23</td>\n",
       "      <td>1450</td>\n",
       "    </tr>\n",
       "    <tr>\n",
       "      <th>6</th>\n",
       "      <td>7</td>\n",
       "      <td>1459</td>\n",
       "    </tr>\n",
       "    <tr>\n",
       "      <th>140</th>\n",
       "      <td>141</td>\n",
       "      <td>1770</td>\n",
       "    </tr>\n",
       "    <tr>\n",
       "      <th>100</th>\n",
       "      <td>101</td>\n",
       "      <td>1885</td>\n",
       "    </tr>\n",
       "    <tr>\n",
       "      <th>68</th>\n",
       "      <td>69</td>\n",
       "      <td>2315</td>\n",
       "    </tr>\n",
       "    <tr>\n",
       "      <th>65</th>\n",
       "      <td>66</td>\n",
       "      <td>2348</td>\n",
       "    </tr>\n",
       "    <tr>\n",
       "      <th>69</th>\n",
       "      <td>70</td>\n",
       "      <td>2533</td>\n",
       "    </tr>\n",
       "    <tr>\n",
       "      <th>67</th>\n",
       "      <td>68</td>\n",
       "      <td>3710</td>\n",
       "    </tr>\n",
       "  </tbody>\n",
       "</table>\n",
       "</div>"
      ],
      "text/plain": [
       "     Rio  Millas\n",
       "24    25    1243\n",
       "97    98    1270\n",
       "82    83    1306\n",
       "22    23    1450\n",
       "6      7    1459\n",
       "140  141    1770\n",
       "100  101    1885\n",
       "68    69    2315\n",
       "65    66    2348\n",
       "69    70    2533\n",
       "67    68    3710"
      ]
     },
     "execution_count": 23,
     "metadata": {},
     "output_type": "execute_result"
    }
   ],
   "source": [
    "Outliers_Ordenados = outliers.sort_values(\"Millas\")\n",
    "Outliers_Ordenados"
   ]
  },
  {
   "cell_type": "code",
   "execution_count": 24,
   "id": "bff7793e",
   "metadata": {},
   "outputs": [],
   "source": [
    "# Nos quedamos solamente con los valores que NO son outliers"
   ]
  },
  {
   "cell_type": "code",
   "execution_count": 26,
   "id": "d276e575",
   "metadata": {},
   "outputs": [
    {
     "data": {
      "text/html": [
       "<div>\n",
       "<style scoped>\n",
       "    .dataframe tbody tr th:only-of-type {\n",
       "        vertical-align: middle;\n",
       "    }\n",
       "\n",
       "    .dataframe tbody tr th {\n",
       "        vertical-align: top;\n",
       "    }\n",
       "\n",
       "    .dataframe thead th {\n",
       "        text-align: right;\n",
       "    }\n",
       "</style>\n",
       "<table border=\"1\" class=\"dataframe\">\n",
       "  <thead>\n",
       "    <tr style=\"text-align: right;\">\n",
       "      <th></th>\n",
       "      <th>Rio</th>\n",
       "      <th>Millas</th>\n",
       "    </tr>\n",
       "  </thead>\n",
       "  <tbody>\n",
       "    <tr>\n",
       "      <th>0</th>\n",
       "      <td>1</td>\n",
       "      <td>735</td>\n",
       "    </tr>\n",
       "    <tr>\n",
       "      <th>1</th>\n",
       "      <td>2</td>\n",
       "      <td>320</td>\n",
       "    </tr>\n",
       "    <tr>\n",
       "      <th>2</th>\n",
       "      <td>3</td>\n",
       "      <td>325</td>\n",
       "    </tr>\n",
       "    <tr>\n",
       "      <th>3</th>\n",
       "      <td>4</td>\n",
       "      <td>392</td>\n",
       "    </tr>\n",
       "    <tr>\n",
       "      <th>4</th>\n",
       "      <td>5</td>\n",
       "      <td>524</td>\n",
       "    </tr>\n",
       "    <tr>\n",
       "      <th>...</th>\n",
       "      <td>...</td>\n",
       "      <td>...</td>\n",
       "    </tr>\n",
       "    <tr>\n",
       "      <th>135</th>\n",
       "      <td>136</td>\n",
       "      <td>500</td>\n",
       "    </tr>\n",
       "    <tr>\n",
       "      <th>136</th>\n",
       "      <td>137</td>\n",
       "      <td>720</td>\n",
       "    </tr>\n",
       "    <tr>\n",
       "      <th>137</th>\n",
       "      <td>138</td>\n",
       "      <td>270</td>\n",
       "    </tr>\n",
       "    <tr>\n",
       "      <th>138</th>\n",
       "      <td>139</td>\n",
       "      <td>430</td>\n",
       "    </tr>\n",
       "    <tr>\n",
       "      <th>139</th>\n",
       "      <td>140</td>\n",
       "      <td>671</td>\n",
       "    </tr>\n",
       "  </tbody>\n",
       "</table>\n",
       "<p>130 rows × 2 columns</p>\n",
       "</div>"
      ],
      "text/plain": [
       "     Rio  Millas\n",
       "0      1     735\n",
       "1      2     320\n",
       "2      3     325\n",
       "3      4     392\n",
       "4      5     524\n",
       "..   ...     ...\n",
       "135  136     500\n",
       "136  137     720\n",
       "137  138     270\n",
       "138  139     430\n",
       "139  140     671\n",
       "\n",
       "[130 rows x 2 columns]"
      ]
     },
     "execution_count": 26,
     "metadata": {},
     "output_type": "execute_result"
    }
   ],
   "source": [
    "ubicacion_sin_out = (rios['Millas'] >= BI_Calculado) & (rios['Millas'] <= BS_Calculado)\n",
    "sin_outliers = rios[ubicacion_sin_out]\n",
    "sin_outliers"
   ]
  },
  {
   "cell_type": "code",
   "execution_count": 27,
   "id": "50502d3b",
   "metadata": {},
   "outputs": [],
   "source": [
    "# Hacemos gráfico de caja y bigotes para ver si el objeto \"sin_outliers\" ya no tiene outliers"
   ]
  },
  {
   "cell_type": "code",
   "execution_count": 28,
   "id": "b07d189f",
   "metadata": {},
   "outputs": [
    {
     "data": {
      "image/png": "[encoded data removed]",
      "text/plain": [
       "<Figure size 640x480 with 1 Axes>"
      ]
     },
     "metadata": {},
     "output_type": "display_data"
    }
   ],
   "source": [
    "plt.title(\"sin_outliers\")\n",
    "plt.boxplot(sin_outliers[\"Millas\"], vert=False)\n",
    "plt.show()"
   ]
  },
  {
   "cell_type": "code",
   "execution_count": 29,
   "id": "76e0a670",
   "metadata": {},
   "outputs": [],
   "source": [
    "# HAY QUE REPETIR EL PROCESO ANTERIOR DE TRATAMIENTO DE OUTLIERS HASTA QUE NO QUEDEN OUTLIERS \n",
    "# EN LA GRÁFICA!!!"
   ]
  },
  {
   "cell_type": "code",
   "execution_count": null,
   "id": "c7192e36",
   "metadata": {},
   "outputs": [],
   "source": []
  }
 ],
 "metadata": {
  "kernelspec": {
   "display_name": "Python 3 (ipykernel)",
   "language": "python",
   "name": "python3"
  },
  "language_info": {
   "codemirror_mode": {
    "name": "ipython",
    "version": 3
   },
   "file_extension": ".py",
   "mimetype": "text/x-python",
   "name": "python",
   "nbconvert_exporter": "python",
   "pygments_lexer": "ipython3",
   "version": "3.11.3"
  }
 },
 "nbformat": 4,
 "nbformat_minor": 5
}
